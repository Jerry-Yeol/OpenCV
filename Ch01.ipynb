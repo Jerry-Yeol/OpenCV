{
 "cells": [
  {
   "cell_type": "markdown",
   "metadata": {},
   "source": [
    "# How to solve computer vision problems  "
   ]
  },
  {
   "cell_type": "markdown",
   "metadata": {},
   "source": [
    "## Processing Step\n",
    "\n",
    "- 영상 -> 저급 비전(전처리 -> 특징 추출) -> 고급 비전(해석) -> 고급 묘사\n",
    "\n",
    "- 전처리 : 사용 목적에 맞게 적절한 처리를 하는 부분.\n",
    "\n",
    "- 특징 추출 : 엣지, 선분, 원, 코너, 텍스처 등의 특징 추출.  \n",
    "\n",
    "- 해석 : 특징 분석"
   ]
  },
  {
   "cell_type": "markdown",
   "metadata": {},
   "source": [
    "## Solving Tools\n",
    "\n",
    "- Data Structure & Algorithm : 데이터를 표현할 자료구조, 효율적인 알고리즘 적용.\n",
    "\n",
    "- Mathematics : 문제를 공식화하여 알고리즘 도출.\n",
    "\n",
    "- Machine learning"
   ]
  },
  {
   "cell_type": "markdown",
   "metadata": {},
   "source": [
    "## System Design\n",
    "\n",
    "- 문제 이해\n",
    "- DB 수집\n",
    "- 알고리즘 설계와 구현\n",
    "- 성능 평가"
   ]
  },
  {
   "cell_type": "code",
   "execution_count": null,
   "metadata": {},
   "outputs": [],
   "source": []
  }
 ],
 "metadata": {
  "kernelspec": {
   "display_name": "Python 3",
   "language": "python",
   "name": "python3"
  },
  "language_info": {
   "codemirror_mode": {
    "name": "ipython",
    "version": 3
   },
   "file_extension": ".py",
   "mimetype": "text/x-python",
   "name": "python",
   "nbconvert_exporter": "python",
   "pygments_lexer": "ipython3",
   "version": "3.5.4"
  }
 },
 "nbformat": 4,
 "nbformat_minor": 2
}
