{
 "cells": [
  {
   "cell_type": "code",
   "execution_count": 1,
   "metadata": {},
   "outputs": [],
   "source": [
    "import sys\n",
    "sys.path.append('..')\n",
    "import cv2\n",
    "import numpy as np\n",
    "from matplotlib import pyplot as plt\n",
    "%matplotlib inline"
   ]
  },
  {
   "cell_type": "code",
   "execution_count": 2,
   "metadata": {},
   "outputs": [],
   "source": [
    "def triangle(a, b, c, z):\n",
    "    '''\n",
    "    a : maximum point\n",
    "    b, c : range of membership function\n",
    "    z : input\n",
    "    '''\n",
    "    if z > a and z<= a+c:\n",
    "        return 1-(z-a)/c\n",
    "    elif z <=a and z>= a-b:\n",
    "        return 1-(a-z)/b\n",
    "    else : return 0\n",
    "    \n",
    "def trapezoidal(a, b, c, d, z):\n",
    "    '''\n",
    "    a : maximum point\n",
    "    b, c : range of membership function\n",
    "    z : input\n",
    "    '''\n",
    "    if z>= a-b and z < a:\n",
    "        return 1-(a-z)/b\n",
    "    elif z>=a and z<c:\n",
    "        return 1\n",
    "    elif z>=c and z<= c+d:\n",
    "        return 1-(z-c)/d\n",
    "    else : return 0\n",
    "    \n",
    "def Sigma(a, b, z):\n",
    "    '''\n",
    "    a : 1 point\n",
    "    b : zero point\n",
    "    '''\n",
    "    if z>=a-b and z<=a:\n",
    "        return 1-(a-z)/b\n",
    "    elif z > a:\n",
    "        return 1\n",
    "    else : return 0\n",
    "\n",
    "def s_shape(a, b, c, z):\n",
    "    '''\n",
    "    a : 0 point\n",
    "    b : 0.5 point\n",
    "    c : 1 point\n",
    "    '''\n",
    "    if z<a : return 0\n",
    "    elif z>=a and z<=b:\n",
    "        return 2*((z-a)/(c-a))**2\n",
    "    elif z > b and z<=c:\n",
    "        return 1-2*((z-c)/(c-a))**2\n",
    "    else : return 1\n",
    "    \n",
    "def bell(b, c, z):\n",
    "    '''\n",
    "    b : 0.5 point\n",
    "    c : center point\n",
    "    '''\n",
    "    if z<=c:\n",
    "        return s_shape(c-b, (c-b)/2, c, z)\n",
    "    else : \n",
    "        return 1- s_shape(c, (c+b)/2, c+b, z)\n",
    "\n",
    "def gaussian(a, b, c, z):\n",
    "    '''\n",
    "    a : 1 point\n",
    "    b : width of 0.607 values \n",
    "    c : zeor point\n",
    "    '''\n",
    "    if z>= a-c and z<= a+c:\n",
    "        up = ((z-a)/(2*b))**2\n",
    "        return np.exp(-up)\n",
    "    else : return 0"
   ]
  },
  {
   "cell_type": "code",
   "execution_count": 9,
   "metadata": {},
   "outputs": [
    {
     "data": {
      "image/png": "[encoded data removed]",
      "text/plain": [
       "<matplotlib.figure.Figure at 0x7fed7205c160>"
      ]
     },
     "metadata": {},
     "output_type": "display_data"
    }
   ],
   "source": [
    "z = np.random.randint(0, 180, 180)\n",
    "z.sort()\n",
    "mu_tri1 = []\n",
    "mu_tri2 = []\n",
    "mu_tri3 = []\n",
    "for i in z[:90]:\n",
    "    mu_tri1.append(triangle(45, 45, 45, i))\n",
    "for i in z[45:135]:\n",
    "    mu_tri2.append(triangle(90, 45, 45, i))\n",
    "for i in z[90:]:\n",
    "    mu_tri3.append(triangle(135, 45, 45, i))\n",
    "\n",
    "\n",
    "plt.plot(z[:90], mu_tri1, 'g-')\n",
    "plt.plot(z[45:135], mu_tri2, 'y-')\n",
    "plt.plot(z[90:], mu_tri3, 'r-')\n",
    "plt.show()"
   ]
  },
  {
   "cell_type": "code",
   "execution_count": null,
   "metadata": {},
   "outputs": [],
   "source": []
  }
 ],
 "metadata": {
  "kernelspec": {
   "display_name": "Python 3",
   "language": "python",
   "name": "python3"
  },
  "language_info": {
   "codemirror_mode": {
    "name": "ipython",
    "version": 3
   },
   "file_extension": ".py",
   "mimetype": "text/x-python",
   "name": "python",
   "nbconvert_exporter": "python",
   "pygments_lexer": "ipython3",
   "version": "3.5.4"
  }
 },
 "nbformat": 4,
 "nbformat_minor": 2
}
