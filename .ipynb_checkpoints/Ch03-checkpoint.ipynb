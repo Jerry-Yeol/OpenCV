{
 "cells": [
  {
   "cell_type": "markdown",
   "metadata": {},
   "source": [
    "# Binary Image"
   ]
  },
  {
   "cell_type": "markdown",
   "metadata": {},
   "source": [
    "## Binary & Otsu algorithm"
   ]
  },
  {
   "cell_type": "code",
   "execution_count": 2,
   "metadata": {},
   "outputs": [],
   "source": [
    "from utils import *\n",
    "import cv2\n",
    "import numpy as np\n",
    "from matplotlib import pyplot as plt\n",
    "%matplotlib inline"
   ]
  },
  {
   "cell_type": "code",
   "execution_count": 3,
   "metadata": {},
   "outputs": [],
   "source": [
    "img = cv2.imread('./5.jpg')\n",
    "img = cv2.cvtColor(img, cv2.COLOR_BGR2GRAY)\n",
    "img = cv2.resize(img, (30, 30))"
   ]
  },
  {
   "cell_type": "code",
   "execution_count": 6,
   "metadata": {},
   "outputs": [],
   "source": [
    "hist, hist_hat = make_histogram(img)"
   ]
  },
  {
   "cell_type": "code",
   "execution_count": null,
   "metadata": {},
   "outputs": [],
   "source": [
    "def w0_t(hist_hat, t):\n",
    "    return sum(hist_hat[:t+1])\n",
    "\n",
    "def w1_t(hist_hat, t):\n",
    "    return sum(hist_hat[t+1:])\n",
    "\n",
    "def m0_t(hist_hat, t):\n",
    "    w0 = w0_t(hist_hat, t)\n",
    "    _sum = []\n",
    "    for i in range(len(hist_hat)):\n",
    "        _sum.append(i*hist_hat[i])\n",
    "    _sum = sum(_sum)\n",
    "    return _sum/w0\n",
    "\n",
    "def m1_t(hist_hat, t):\n",
    "    w1 = w1_t(hist_hat, t)\n",
    "    _sum = []\n",
    "    for i in range(len(hist_hat[t+1:])):\n",
    "        i += t+1\n",
    "        _sum.append(i*hist_hat[i])\n",
    "    _sum = sum(_sum)\n",
    "    return _sum/w1\n",
    "\n",
    "def v0_t(hist_hat, t):\n"
   ]
  }
 ],
 "metadata": {
  "kernelspec": {
   "display_name": "Python 3",
   "language": "python",
   "name": "python3"
  },
  "language_info": {
   "codemirror_mode": {
    "name": "ipython",
    "version": 3
   },
   "file_extension": ".py",
   "mimetype": "text/x-python",
   "name": "python",
   "nbconvert_exporter": "python",
   "pygments_lexer": "ipython3",
   "version": "3.5.4"
  }
 },
 "nbformat": 4,
 "nbformat_minor": 2
}
